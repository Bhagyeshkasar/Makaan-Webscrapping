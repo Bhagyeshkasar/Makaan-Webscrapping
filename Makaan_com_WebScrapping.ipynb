{
  "nbformat": 4,
  "nbformat_minor": 0,
  "metadata": {
    "colab": {
      "name": "Makaan.com_WebScrapping.ipynb",
      "provenance": [],
      "authorship_tag": "ABX9TyPC2VqwCpSxPzWN1tsAMUPw",
      "include_colab_link": true
    },
    "kernelspec": {
      "name": "python3",
      "display_name": "Python 3"
    },
    "language_info": {
      "name": "python"
    }
  },
  "cells": [
    {
      "cell_type": "markdown",
      "metadata": {
        "id": "view-in-github",
        "colab_type": "text"
      },
      "source": [
        "<a href=\"https://colab.research.google.com/github/Jiteshwagh/Makaan-Webscrapping/blob/main/Makaan_com_WebScrapping.ipynb\" target=\"_parent\"><img src=\"https://colab.research.google.com/assets/colab-badge.svg\" alt=\"Open In Colab\"/></a>"
      ]
    },
    {
      "cell_type": "code",
      "metadata": {
        "id": "mqBFyLA0dE7k"
      },
      "source": [
        "#importing all the required packages\n",
        "\n",
        "import requests\n",
        "from bs4 import BeautifulSoup\n",
        "import pandas as pd\n",
        "import time\n",
        "from IPython.display import clear_output"
      ],
      "execution_count": 1,
      "outputs": []
    },
    {
      "cell_type": "code",
      "metadata": {
        "colab": {
          "base_uri": "https://localhost:8080/"
        },
        "id": "EY-9JSYmdv4R",
        "outputId": "440976b9-3ca3-449c-c51b-c737e6f7497a"
      },
      "source": [
        "base_url = 'https://www.makaan.com/mumbai-residential-property/buy-property-in-mumbai-city?page='      #multiple pages\n",
        "own_info = []          #owner info\n",
        "b_info = []            #bhk info\n",
        "loc_info = []          #locality info\n",
        "con_info = []          #construction status info\n",
        "area_info = []         #area sqft info\n",
        "price_info = []        #price info\n",
        "rate_psqft = []        #rate per square feet\n",
        "\n",
        "for i in range(1,51):\n",
        "  time.sleep(3)\n",
        "\n",
        "  print(f'Going to scrap data from page {i} ' )\n",
        "  clear_output(wait='True')\n",
        "  url = base_url + str(i) + '&_=1624462763795'\n",
        "  req = requests.get(url)\n",
        "  soup = BeautifulSoup(req.text,'html')\n",
        "\n",
        "  #owner info\n",
        "  o_inf = (soup.findAll('span',attrs = {'class' : 'seller-type'}) )\n",
        "  for j in o_inf:\n",
        "    own_info.append(j.text)\n",
        "\n",
        "  #bhk info\n",
        "  b_inf = soup.findAll('div',attrs={'class':'title-line'})\n",
        "  for k in b_inf:\n",
        "    b_info.append(k.strong.span.text)\n",
        "\n",
        "  #locality info\n",
        "  loc_inf = soup.findAll('span',attrs = {'itemprop' : 'addressLocality' })\n",
        "  for l in loc_inf:\n",
        "    loc_info.append(l.text)\n",
        "\n",
        "  #construction status info\n",
        "  con_inf = soup.findAll('td',attrs = {'class' : 'val' })\n",
        "  for m in con_inf:\n",
        "    con_info.append(m.text)\n",
        "\n",
        "  #area per sqft info\n",
        "  area_inf = soup.findAll('td',attrs={'class' : 'size'})\n",
        "  for n in area_inf:\n",
        "    area_info.append(n.text)\n",
        "\n",
        "  #price info\n",
        "  price_inf = soup.findAll('td',attrs={'class' : 'price'})\n",
        "  for o in price_inf:\n",
        "    price_info.append(o.text)\n",
        "\n",
        "  #rate per square feet info\n",
        "  rate = soup.findAll('td',attrs={'class' : 'lbl rate'})\n",
        "  for p in rate:\n",
        "    rate_psqft.append(p.text)"
      ],
      "execution_count": 7,
      "outputs": [
        {
          "output_type": "stream",
          "text": [
            "Going to scrap data from page 50 \n"
          ],
          "name": "stdout"
        }
      ]
    },
    {
      "cell_type": "code",
      "metadata": {
        "id": "obNaqqaqiix6"
      },
      "source": [
        "#Converting data to tabular Format using Pandas\n",
        "\n",
        "data = pd.DataFrame({'Owner_info' : own_info,\n",
        "              'BHK_Info' : b_info,\n",
        "              'Price' : price_info,\n",
        "              'Locality' : loc_info,\n",
        "              'Area in Sqft' : area_info,\n",
        "               'Construction status' : con_info,\n",
        "               'Price per/sqft' : rate_psqft })"
      ],
      "execution_count": 9,
      "outputs": []
    },
    {
      "cell_type": "code",
      "metadata": {
        "colab": {
          "base_uri": "https://localhost:8080/",
          "height": 419
        },
        "id": "9T4EmvM0lK9G",
        "outputId": "4d0bb885-6d3d-4db0-8377-f8ab5c04c4cd"
      },
      "source": [
        "data"
      ],
      "execution_count": 10,
      "outputs": [
        {
          "output_type": "execute_result",
          "data": {
            "text/html": [
              "<div>\n",
              "<style scoped>\n",
              "    .dataframe tbody tr th:only-of-type {\n",
              "        vertical-align: middle;\n",
              "    }\n",
              "\n",
              "    .dataframe tbody tr th {\n",
              "        vertical-align: top;\n",
              "    }\n",
              "\n",
              "    .dataframe thead th {\n",
              "        text-align: right;\n",
              "    }\n",
              "</style>\n",
              "<table border=\"1\" class=\"dataframe\">\n",
              "  <thead>\n",
              "    <tr style=\"text-align: right;\">\n",
              "      <th></th>\n",
              "      <th>Owner_info</th>\n",
              "      <th>BHK_Info</th>\n",
              "      <th>Price</th>\n",
              "      <th>Locality</th>\n",
              "      <th>Area in Sqft</th>\n",
              "      <th>Construction status</th>\n",
              "      <th>Price per/sqft</th>\n",
              "    </tr>\n",
              "  </thead>\n",
              "  <tbody>\n",
              "    <tr>\n",
              "      <th>0</th>\n",
              "      <td>BUILDER</td>\n",
              "      <td>1</td>\n",
              "      <td>52 L</td>\n",
              "      <td>Ulwe</td>\n",
              "      <td>745</td>\n",
              "      <td>Under Construction</td>\n",
              "      <td>6,979 / sq ft</td>\n",
              "    </tr>\n",
              "    <tr>\n",
              "      <th>1</th>\n",
              "      <td>BUILDER</td>\n",
              "      <td>2</td>\n",
              "      <td>1.76 Cr</td>\n",
              "      <td>Kandivali West</td>\n",
              "      <td>720</td>\n",
              "      <td>Under Construction</td>\n",
              "      <td>24,444 / sq ft</td>\n",
              "    </tr>\n",
              "    <tr>\n",
              "      <th>2</th>\n",
              "      <td>BUILDER</td>\n",
              "      <td>2</td>\n",
              "      <td>1.64 Cr</td>\n",
              "      <td>Malad West</td>\n",
              "      <td>702</td>\n",
              "      <td>Under Construction</td>\n",
              "      <td>23,362 / sq ft</td>\n",
              "    </tr>\n",
              "    <tr>\n",
              "      <th>3</th>\n",
              "      <td>BUILDER</td>\n",
              "      <td>1</td>\n",
              "      <td>20.99 L</td>\n",
              "      <td>Khopoli</td>\n",
              "      <td>457</td>\n",
              "      <td>Ready to move</td>\n",
              "      <td>4,593 / sq ft</td>\n",
              "    </tr>\n",
              "    <tr>\n",
              "      <th>4</th>\n",
              "      <td>BUILDER</td>\n",
              "      <td>4</td>\n",
              "      <td>1.25 Cr</td>\n",
              "      <td>Kalyan West</td>\n",
              "      <td>1400</td>\n",
              "      <td>Ready to move</td>\n",
              "      <td>8,928 / sq ft</td>\n",
              "    </tr>\n",
              "    <tr>\n",
              "      <th>...</th>\n",
              "      <td>...</td>\n",
              "      <td>...</td>\n",
              "      <td>...</td>\n",
              "      <td>...</td>\n",
              "      <td>...</td>\n",
              "      <td>...</td>\n",
              "      <td>...</td>\n",
              "    </tr>\n",
              "    <tr>\n",
              "      <th>995</th>\n",
              "      <td>OWNER</td>\n",
              "      <td>1</td>\n",
              "      <td>48 L</td>\n",
              "      <td>Dombivali</td>\n",
              "      <td>675</td>\n",
              "      <td>Ready to move</td>\n",
              "      <td>7,111 / sq ft</td>\n",
              "    </tr>\n",
              "    <tr>\n",
              "      <th>996</th>\n",
              "      <td>OWNER</td>\n",
              "      <td>2</td>\n",
              "      <td>1.5 Cr</td>\n",
              "      <td>Thane West</td>\n",
              "      <td>802</td>\n",
              "      <td>Under Construction</td>\n",
              "      <td>18,703 / sq ft</td>\n",
              "    </tr>\n",
              "    <tr>\n",
              "      <th>997</th>\n",
              "      <td>OWNER</td>\n",
              "      <td>2</td>\n",
              "      <td>68 L</td>\n",
              "      <td>Kharghar</td>\n",
              "      <td>1050</td>\n",
              "      <td>Ready to move</td>\n",
              "      <td>6,476 / sq ft</td>\n",
              "    </tr>\n",
              "    <tr>\n",
              "      <th>998</th>\n",
              "      <td>OWNER</td>\n",
              "      <td>2</td>\n",
              "      <td>1 Cr</td>\n",
              "      <td>Thane West</td>\n",
              "      <td>875</td>\n",
              "      <td>Ready to move</td>\n",
              "      <td>11,428 / sq ft</td>\n",
              "    </tr>\n",
              "    <tr>\n",
              "      <th>999</th>\n",
              "      <td>OWNER</td>\n",
              "      <td>5</td>\n",
              "      <td>12 Cr</td>\n",
              "      <td>Andheri West</td>\n",
              "      <td>2900</td>\n",
              "      <td>Ready to move</td>\n",
              "      <td>41,379 / sq ft</td>\n",
              "    </tr>\n",
              "  </tbody>\n",
              "</table>\n",
              "<p>1000 rows × 7 columns</p>\n",
              "</div>"
            ],
            "text/plain": [
              "    Owner_info BHK_Info  ... Construction status  Price per/sqft\n",
              "0      BUILDER       1   ...  Under Construction   6,979 / sq ft\n",
              "1      BUILDER       2   ...  Under Construction  24,444 / sq ft\n",
              "2      BUILDER       2   ...  Under Construction  23,362 / sq ft\n",
              "3      BUILDER       1   ...       Ready to move   4,593 / sq ft\n",
              "4      BUILDER       4   ...       Ready to move   8,928 / sq ft\n",
              "..         ...      ...  ...                 ...             ...\n",
              "995      OWNER       1   ...       Ready to move   7,111 / sq ft\n",
              "996      OWNER       2   ...  Under Construction  18,703 / sq ft\n",
              "997      OWNER       2   ...       Ready to move   6,476 / sq ft\n",
              "998      OWNER       2   ...       Ready to move  11,428 / sq ft\n",
              "999      OWNER       5   ...       Ready to move  41,379 / sq ft\n",
              "\n",
              "[1000 rows x 7 columns]"
            ]
          },
          "metadata": {
            "tags": []
          },
          "execution_count": 10
        }
      ]
    },
    {
      "cell_type": "code",
      "metadata": {
        "id": "blZsNWejk8Es"
      },
      "source": [
        "#saving to CSV file\n",
        "data.to_csv('Apartments.csv',index=False)       "
      ],
      "execution_count": 11,
      "outputs": []
    },
    {
      "cell_type": "code",
      "metadata": {
        "id": "mByCNxOllNab"
      },
      "source": [
        ""
      ],
      "execution_count": null,
      "outputs": []
    }
  ]
}